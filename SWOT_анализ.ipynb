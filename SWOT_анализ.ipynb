{
  "nbformat": 4,
  "nbformat_minor": 0,
  "metadata": {
    "colab": {
      "name": "SWOT-анализ",
      "provenance": [],
      "collapsed_sections": [],
      "toc_visible": true
    },
    "kernelspec": {
      "name": "python3",
      "display_name": "Python 3"
    }
  },
  "cells": [
    {
      "cell_type": "markdown",
      "metadata": {
        "id": "rdEc0aae0C-L"
      },
      "source": [
        "#Задание 1"
      ]
    },
    {
      "cell_type": "markdown",
      "metadata": {
        "id": "Ez7PTIMc0Q6T"
      },
      "source": [
        "#Информация об исполнителе"
      ]
    },
    {
      "cell_type": "code",
      "metadata": {
        "colab": {
          "base_uri": "https://localhost:8080/",
          "height": 0
        },
        "id": "BGJOpuyn0S4V",
        "outputId": "67496216-d647-4dd6-abba-8dfbc339cd43"
      },
      "source": [
        "print('Исполнитель:')\r\n",
        "print('ФИО: Гуменюк Яна Евгеньевна')\r\n",
        "print('Группа: 20БИ-3')\r\n",
        "!ln -fs /usr/share/zoneinfo/Europe/Moscow /etc/localtime\r\n",
        "!date"
      ],
      "execution_count": 1,
      "outputs": [
        {
          "output_type": "stream",
          "text": [
            "Исполнитель:\n",
            "ФИО: Гуменюк Яна Евгеньевна\n",
            "Группа: 20БИ-3\n",
            "Wed Mar  3 16:48:31 MSK 2021\n"
          ],
          "name": "stdout"
        }
      ]
    },
    {
      "cell_type": "markdown",
      "metadata": {
        "id": "vGspcagp1vXJ"
      },
      "source": [
        "#Связь и обмен данными с Google-диском и другие манипуляции, обеспечивающие связь с необходимыми ресурсами на удаленном сервере"
      ]
    },
    {
      "cell_type": "code",
      "metadata": {
        "colab": {
          "base_uri": "https://localhost:8080/",
          "height": 0
        },
        "id": "oABlo7wg2DVa",
        "outputId": "4cd9e1b1-9289-4621-bdb4-0fbcd3351ac8"
      },
      "source": [
        "from google.colab import auth\r\n",
        "auth.authenticate_user()\r\n",
        "!pip install --upgrade gspread\r\n",
        "import gspread\r\n",
        "from google.colab import drive\r\n",
        "drive.mount('/content/drive')\r\n",
        "import os\r\n",
        "print(os.getcwd())\r\n",
        "print(os.listdir('./'))\r\n",
        "print(os.listdir('/content/drive'))\r\n",
        "print(os.listdir('/content/drive/MyDrive/Colab Notebooks/Task1'))\r\n",
        "%ll -lF /content/drive/MyDrive/\"Colab Notebooks\"/\"Task1\"\r\n",
        "from oauth2client.client import GoogleCredentials\r\n",
        "gs = gspread.authorize(GoogleCredentials.get_application_default())"
      ],
      "execution_count": 20,
      "outputs": [
        {
          "output_type": "stream",
          "text": [
            "Requirement already up-to-date: gspread in /usr/local/lib/python3.7/dist-packages (3.7.0)\n",
            "Requirement already satisfied, skipping upgrade: google-auth>=1.12.0 in /usr/local/lib/python3.7/dist-packages (from gspread) (1.27.0)\n",
            "Requirement already satisfied, skipping upgrade: google-auth-oauthlib>=0.4.1 in /usr/local/lib/python3.7/dist-packages (from gspread) (0.4.2)\n",
            "Requirement already satisfied, skipping upgrade: setuptools>=40.3.0 in /usr/local/lib/python3.7/dist-packages (from google-auth>=1.12.0->gspread) (54.0.0)\n",
            "Requirement already satisfied, skipping upgrade: rsa<5,>=3.1.4; python_version >= \"3.6\" in /usr/local/lib/python3.7/dist-packages (from google-auth>=1.12.0->gspread) (4.7.2)\n",
            "Requirement already satisfied, skipping upgrade: pyasn1-modules>=0.2.1 in /usr/local/lib/python3.7/dist-packages (from google-auth>=1.12.0->gspread) (0.2.8)\n",
            "Requirement already satisfied, skipping upgrade: cachetools<5.0,>=2.0.0 in /usr/local/lib/python3.7/dist-packages (from google-auth>=1.12.0->gspread) (4.2.1)\n",
            "Requirement already satisfied, skipping upgrade: six>=1.9.0 in /usr/local/lib/python3.7/dist-packages (from google-auth>=1.12.0->gspread) (1.15.0)\n",
            "Requirement already satisfied, skipping upgrade: requests-oauthlib>=0.7.0 in /usr/local/lib/python3.7/dist-packages (from google-auth-oauthlib>=0.4.1->gspread) (1.3.0)\n",
            "Requirement already satisfied, skipping upgrade: pyasn1>=0.1.3 in /usr/local/lib/python3.7/dist-packages (from rsa<5,>=3.1.4; python_version >= \"3.6\"->google-auth>=1.12.0->gspread) (0.4.8)\n",
            "Requirement already satisfied, skipping upgrade: requests>=2.0.0 in /usr/local/lib/python3.7/dist-packages (from requests-oauthlib>=0.7.0->google-auth-oauthlib>=0.4.1->gspread) (2.23.0)\n",
            "Requirement already satisfied, skipping upgrade: oauthlib>=3.0.0 in /usr/local/lib/python3.7/dist-packages (from requests-oauthlib>=0.7.0->google-auth-oauthlib>=0.4.1->gspread) (3.1.0)\n",
            "Requirement already satisfied, skipping upgrade: idna<3,>=2.5 in /usr/local/lib/python3.7/dist-packages (from requests>=2.0.0->requests-oauthlib>=0.7.0->google-auth-oauthlib>=0.4.1->gspread) (2.10)\n",
            "Requirement already satisfied, skipping upgrade: certifi>=2017.4.17 in /usr/local/lib/python3.7/dist-packages (from requests>=2.0.0->requests-oauthlib>=0.7.0->google-auth-oauthlib>=0.4.1->gspread) (2020.12.5)\n",
            "Requirement already satisfied, skipping upgrade: chardet<4,>=3.0.2 in /usr/local/lib/python3.7/dist-packages (from requests>=2.0.0->requests-oauthlib>=0.7.0->google-auth-oauthlib>=0.4.1->gspread) (3.0.4)\n",
            "Requirement already satisfied, skipping upgrade: urllib3!=1.25.0,!=1.25.1,<1.26,>=1.21.1 in /usr/local/lib/python3.7/dist-packages (from requests>=2.0.0->requests-oauthlib>=0.7.0->google-auth-oauthlib>=0.4.1->gspread) (1.24.3)\n",
            "Drive already mounted at /content/drive; to attempt to forcibly remount, call drive.mount(\"/content/drive\", force_remount=True).\n",
            "/content\n",
            "['.config', 'adc.json', 'drive', 'sample_data']\n",
            "['MyDrive', '.file-revisions-by-id', '.shortcut-targets-by-id', '.Trash']\n",
            "['SWOT-анализ.ipynb', 'SWOTable.gsheet']\n",
            "total 5\n",
            "-rw------- 1 root  151 Mar  3 18:57 SWOTable.gsheet\n",
            "-rw------- 1 root 4341 Mar  3 12:04 SWOT-анализ.ipynb\n"
          ],
          "name": "stdout"
        }
      ]
    },
    {
      "cell_type": "markdown",
      "metadata": {
        "id": "_cOTUlyqaN8Y"
      },
      "source": [
        "# Таблица"
      ]
    },
    {
      "cell_type": "code",
      "metadata": {
        "colab": {
          "base_uri": "https://localhost:8080/",
          "height": 0
        },
        "id": "jz40UM-T59zT",
        "outputId": "d5bc2132-ac5b-4969-aaf5-4fc42210d446"
      },
      "source": [
        "import gspread\r\n",
        "from oauth2client.client import GoogleCredentials\r\n",
        "gc = gspread.authorize(GoogleCredentials.get_application_default())\r\n",
        "table = gs.open_by_key('1EmUdIEw8O1xec-5P77ZLF5BY9-Kw34Guyg38vyQSRRE')\r\n",
        "print(table.worksheets())\r\n",
        "print (dir(table))\r\n"
      ],
      "execution_count": 21,
      "outputs": [
        {
          "output_type": "stream",
          "text": [
            "[<Worksheet 'Strengths' id:0>, <Worksheet 'Weaknesses' id:1441603>, <Worksheet 'Opportunities' id:1224256298>, <Worksheet 'Threats' id:1929994358>, <Worksheet 'Results' id:1024069695>]\n",
            "['__class__', '__delattr__', '__dict__', '__dir__', '__doc__', '__eq__', '__format__', '__ge__', '__getattribute__', '__gt__', '__hash__', '__init__', '__init_subclass__', '__iter__', '__le__', '__lt__', '__module__', '__ne__', '__new__', '__reduce__', '__reduce_ex__', '__repr__', '__setattr__', '__sizeof__', '__str__', '__subclasshook__', '__weakref__', '_properties', '_spreadsheets_get', '_spreadsheets_sheets_copy_to', 'add_worksheet', 'batch_update', 'client', 'del_worksheet', 'duplicate_sheet', 'fetch_sheet_metadata', 'get_worksheet', 'id', 'list_permissions', 'remove_permissions', 'reorder_worksheets', 'share', 'sheet1', 'title', 'updated', 'url', 'values_append', 'values_batch_get', 'values_batch_update', 'values_clear', 'values_get', 'values_update', 'worksheet', 'worksheets']\n"
          ],
          "name": "stdout"
        }
      ]
    },
    {
      "cell_type": "markdown",
      "metadata": {
        "id": "Y-XqkrNtaWc8"
      },
      "source": [
        "#Strengths"
      ]
    },
    {
      "cell_type": "code",
      "metadata": {
        "colab": {
          "base_uri": "https://localhost:8080/",
          "height": 0
        },
        "id": "RXS5kl5_aZ1P",
        "outputId": "6cd03f22-65a7-4f47-fdab-09b99a418caa"
      },
      "source": [
        "print(table.worksheets())\r\n",
        "try:\r\n",
        "  worksheet = table.worksheet('Strengths')\r\n",
        "except Exception as mistake:\r\n",
        "    print('\\n',mistake)\r\n",
        "    print(\"Необходимо создать лист\\n\")\r\n",
        "    worksheet = table.add_worksheet(\"Strengths\",100,100)\r\n",
        "\r\n",
        "print(dir(worksheet))\r\n",
        "rows = worksheet.get_all_values()\r\n",
        "power_strengths = list()\r\n",
        "i=0\r\n",
        "for row in rows:\r\n",
        "  if(i>0):\r\n",
        "    print (i, row)\r\n",
        "    power_strengths.append(int(row[2])*float(row[3]))\r\n",
        "  i+=1\r\n",
        "cell_list = worksheet.range('E2:E5')\r\n",
        "cell_values = power_strengths\r\n",
        "for i, val in enumerate(cell_values):  \r\n",
        "    cell_list[i].value = val   \r\n",
        "worksheet.update_cells(cell_list)"
      ],
      "execution_count": 22,
      "outputs": [
        {
          "output_type": "stream",
          "text": [
            "[<Worksheet 'Strengths' id:0>, <Worksheet 'Weaknesses' id:1441603>, <Worksheet 'Opportunities' id:1224256298>, <Worksheet 'Threats' id:1929994358>, <Worksheet 'Results' id:1024069695>]\n",
            "['__class__', '__delattr__', '__dict__', '__dir__', '__doc__', '__eq__', '__format__', '__ge__', '__getattribute__', '__gt__', '__hash__', '__init__', '__init_subclass__', '__le__', '__lt__', '__module__', '__ne__', '__new__', '__reduce__', '__reduce_ex__', '__repr__', '__setattr__', '__sizeof__', '__str__', '__subclasshook__', '__weakref__', '_finder', '_list_cells', '_properties', 'acell', 'add_cols', 'add_protected_range', 'add_rows', 'append_row', 'append_rows', 'batch_get', 'batch_update', 'cell', 'clear', 'clear_basic_filter', 'clear_note', 'client', 'col_count', 'col_values', 'copy_to', 'delete_columns', 'delete_dimension', 'delete_row', 'delete_rows', 'duplicate', 'export', 'find', 'findall', 'format', 'freeze', 'frozen_col_count', 'frozen_row_count', 'get', 'get_all_records', 'get_all_values', 'id', 'insert_cols', 'insert_note', 'insert_row', 'insert_rows', 'merge_cells', 'range', 'resize', 'row_count', 'row_values', 'set_basic_filter', 'sort', 'spreadsheet', 'title', 'update', 'update_acell', 'update_cell', 'update_cells', 'update_index', 'update_note', 'update_title', 'updated', 'url']\n",
            "1 ['Квалифицированные повара и официанты', 'Высокое качество приготовленных блюд и обслуживания в ресторане', '9', '1', '9']\n",
            "2 ['Оригинальное меню', 'Ресторан предлагает фирменное меню. Подобного ассортимента блюд не предлагает ни один другой ресторан в городе', '8', '1', '8']\n",
            "3 ['Удобное и выгодное расположение', 'Ресторан расположен в живописном месте в центре города', '9', '1', '9']\n",
            "4 ['Изысканный интерьер заведения', 'Приятная атмосфера и обстановка привлекает большое количество посетителей', '7', '0.8', '5,6']\n"
          ],
          "name": "stdout"
        },
        {
          "output_type": "execute_result",
          "data": {
            "text/plain": [
              "{'spreadsheetId': '1EmUdIEw8O1xec-5P77ZLF5BY9-Kw34Guyg38vyQSRRE',\n",
              " 'updatedCells': 4,\n",
              " 'updatedColumns': 1,\n",
              " 'updatedRange': 'Strengths!E2:E5',\n",
              " 'updatedRows': 4}"
            ]
          },
          "metadata": {
            "tags": []
          },
          "execution_count": 22
        }
      ]
    },
    {
      "cell_type": "code",
      "metadata": {
        "colab": {
          "base_uri": "https://localhost:8080/",
          "height": 413
        },
        "id": "zaUlW4OIbciK",
        "outputId": "13946102-376e-4c4a-e7ab-498d00548746"
      },
      "source": [
        "import matplotlib\r\n",
        "import matplotlib.pyplot as plt\r\n",
        "\r\n",
        "x_float = [1,2,3,4]\r\n",
        "y = power_strengths\r\n",
        "y_float = power_strengths                                                                                                                                 \r\n",
        "\r\n",
        "x_pos=list()\r\n",
        "for i in range(x_float.__len__()):\r\n",
        "    x_pos.append(i)\r\n",
        "\r\n",
        "fig=plt.figure(figsize=(8,6), dpi=72)\r\n",
        "plt.bar(x_pos, y_float, width=0.75, align='edge', alpha=0.4)\r\n",
        "plt.xticks(x_pos,  x_float, fontsize=14)\r\n",
        "plt.xlabel('Обозначения', fontsize=14)\r\n",
        "plt.ylabel('Мощность воздействия', fontsize=14)\r\n",
        "plt.title('Strengths', fontsize=14)\r\n",
        "plt.grid(True, color='r', linestyle='-', linewidth=2)\r\n",
        "\r\n",
        "plt.show()"
      ],
      "execution_count": 23,
      "outputs": [
        {
          "output_type": "display_data",
          "data": {
            "image/png": "[encoded data removed]",
            "text/plain": [
              "<Figure size 576x432 with 1 Axes>"
            ]
          },
          "metadata": {
            "tags": [],
            "needs_background": "light"
          }
        }
      ]
    },
    {
      "cell_type": "markdown",
      "metadata": {
        "id": "w7YResnRbtv0"
      },
      "source": [
        "#Weaknesses"
      ]
    },
    {
      "cell_type": "code",
      "metadata": {
        "colab": {
          "base_uri": "https://localhost:8080/",
          "height": 0
        },
        "id": "j5VeOgsebwD0",
        "outputId": "af8a5ffa-1665-4e4e-b53c-4d7da73f70d7"
      },
      "source": [
        "print(table.worksheets())\r\n",
        "try:\r\n",
        "  worksheet = table.worksheet('Weaknesses')\r\n",
        "except Exception as mistake:\r\n",
        "    print('\\n',mistake)\r\n",
        "    print(\"Необходимо создать лист\\n\")\r\n",
        "    worksheet = table.add_worksheet(\"Weaknesses\",100,100)\r\n",
        "\r\n",
        "print(dir(worksheet))\r\n",
        "rows = worksheet.get_all_values()\r\n",
        "power_weaknesses = list()\r\n",
        "i=0\r\n",
        "for row in rows:\r\n",
        "  if(i>0):\r\n",
        "    print (i, row)\r\n",
        "    power_weaknesses.append(int(row[2])*float(row[3]))\r\n",
        "  i+=1\r\n",
        "cell_list = worksheet.range('E2:E5')\r\n",
        "cell_values = power_weaknesses\r\n",
        "for i, val in enumerate(cell_values):  \r\n",
        "    cell_list[i].value = val   \r\n",
        "worksheet.update_cells(cell_list)"
      ],
      "execution_count": 24,
      "outputs": [
        {
          "output_type": "stream",
          "text": [
            "[<Worksheet 'Strengths' id:0>, <Worksheet 'Weaknesses' id:1441603>, <Worksheet 'Opportunities' id:1224256298>, <Worksheet 'Threats' id:1929994358>, <Worksheet 'Results' id:1024069695>]\n",
            "['__class__', '__delattr__', '__dict__', '__dir__', '__doc__', '__eq__', '__format__', '__ge__', '__getattribute__', '__gt__', '__hash__', '__init__', '__init_subclass__', '__le__', '__lt__', '__module__', '__ne__', '__new__', '__reduce__', '__reduce_ex__', '__repr__', '__setattr__', '__sizeof__', '__str__', '__subclasshook__', '__weakref__', '_finder', '_list_cells', '_properties', 'acell', 'add_cols', 'add_protected_range', 'add_rows', 'append_row', 'append_rows', 'batch_get', 'batch_update', 'cell', 'clear', 'clear_basic_filter', 'clear_note', 'client', 'col_count', 'col_values', 'copy_to', 'delete_columns', 'delete_dimension', 'delete_row', 'delete_rows', 'duplicate', 'export', 'find', 'findall', 'format', 'freeze', 'frozen_col_count', 'frozen_row_count', 'get', 'get_all_records', 'get_all_values', 'id', 'insert_cols', 'insert_note', 'insert_row', 'insert_rows', 'merge_cells', 'range', 'resize', 'row_count', 'row_values', 'set_basic_filter', 'sort', 'spreadsheet', 'title', 'update', 'update_acell', 'update_cell', 'update_cells', 'update_index', 'update_note', 'update_title', 'updated', 'url']\n",
            "1 ['Высокие цены', 'Специфика ресторана предполагает подачу дорогостоящих блюд', '8', '0.8', '6,4']\n",
            "2 ['Зависимость от ингредиентов', 'Из-за ограничения импорта продуктов получить некоторые необходимые для приготовления ингредиенты становится практически невозможным', '8', '0.9', '7,2']\n",
            "3 ['Небольшой приток гостей', 'Ресторан рассчитан на публику с определенным уровнем дохода', '10', '0.8', '8']\n",
            "4 ['Специфичность предлагаемого меню', 'Уникальность и оригинальность предлагаемых блюд, которые не всем придутся по вкусу', '7', '0.8', '5,6']\n"
          ],
          "name": "stdout"
        },
        {
          "output_type": "execute_result",
          "data": {
            "text/plain": [
              "{'spreadsheetId': '1EmUdIEw8O1xec-5P77ZLF5BY9-Kw34Guyg38vyQSRRE',\n",
              " 'updatedCells': 4,\n",
              " 'updatedColumns': 1,\n",
              " 'updatedRange': 'Weaknesses!E2:E5',\n",
              " 'updatedRows': 4}"
            ]
          },
          "metadata": {
            "tags": []
          },
          "execution_count": 24
        }
      ]
    },
    {
      "cell_type": "code",
      "metadata": {
        "colab": {
          "base_uri": "https://localhost:8080/",
          "height": 413
        },
        "id": "_JhvxHpCcJIo",
        "outputId": "e7f88859-0d54-4f75-bf1c-074a1924a6db"
      },
      "source": [
        "import matplotlib\r\n",
        "import matplotlib.pyplot as plt\r\n",
        "\r\n",
        "x_float = [1,2,3,4]\r\n",
        "y = power_weaknesses\r\n",
        "y_float = power_weaknesses                                                                                                                                 \r\n",
        "\r\n",
        "x_pos=list()\r\n",
        "for i in range(x_float.__len__()):\r\n",
        "    x_pos.append(i)\r\n",
        "\r\n",
        "fig=plt.figure(figsize=(8,6), dpi=72)\r\n",
        "plt.bar(x_pos, y_float, width=0.75, align='edge', alpha=0.4)\r\n",
        "plt.xticks(x_pos,  x_float, fontsize=14)\r\n",
        "plt.xlabel('Обозначения', fontsize=14)\r\n",
        "plt.ylabel('Мощность воздействия', fontsize=14)\r\n",
        "plt.title('Weaknesses', fontsize=14)\r\n",
        "plt.grid(True, color='r', linestyle='-', linewidth=2)\r\n",
        "\r\n",
        "plt.show()"
      ],
      "execution_count": 25,
      "outputs": [
        {
          "output_type": "display_data",
          "data": {
            "image/png": "[encoded data removed]",
            "text/plain": [
              "<Figure size 576x432 with 1 Axes>"
            ]
          },
          "metadata": {
            "tags": [],
            "needs_background": "light"
          }
        }
      ]
    },
    {
      "cell_type": "markdown",
      "metadata": {
        "id": "H1zzGDBfcVqN"
      },
      "source": [
        "#Opportunities"
      ]
    },
    {
      "cell_type": "code",
      "metadata": {
        "colab": {
          "base_uri": "https://localhost:8080/",
          "height": 0
        },
        "id": "eVxyy3gDcY8r",
        "outputId": "2126e132-ee73-4f57-e42f-5771719607bb"
      },
      "source": [
        "print(table.worksheets())\r\n",
        "try:\r\n",
        "  worksheet = table.worksheet('Opportunities')\r\n",
        "except Exception as mistake:\r\n",
        "    print('\\n',mistake)\r\n",
        "    print(\"Необходимо создать лист\\n\")\r\n",
        "    worksheet = table.add_worksheet(\"Opportunities\",100,100)\r\n",
        "\r\n",
        "print(dir(worksheet))\r\n",
        "rows = worksheet.get_all_values()\r\n",
        "power_opportunities = list()\r\n",
        "i=0\r\n",
        "for row in rows:\r\n",
        "  if(i>0):\r\n",
        "    print (i, row)\r\n",
        "    power_opportunities.append(int(row[2])*float(row[3]))\r\n",
        "  i+=1\r\n",
        "cell_list = worksheet.range('E2:E5')\r\n",
        "cell_values = power_opportunities\r\n",
        "for i, val in enumerate(cell_values):  \r\n",
        "    cell_list[i].value = val   \r\n",
        "worksheet.update_cells(cell_list)"
      ],
      "execution_count": 26,
      "outputs": [
        {
          "output_type": "stream",
          "text": [
            "[<Worksheet 'Strengths' id:0>, <Worksheet 'Weaknesses' id:1441603>, <Worksheet 'Opportunities' id:1224256298>, <Worksheet 'Threats' id:1929994358>, <Worksheet 'Results' id:1024069695>]\n",
            "['__class__', '__delattr__', '__dict__', '__dir__', '__doc__', '__eq__', '__format__', '__ge__', '__getattribute__', '__gt__', '__hash__', '__init__', '__init_subclass__', '__le__', '__lt__', '__module__', '__ne__', '__new__', '__reduce__', '__reduce_ex__', '__repr__', '__setattr__', '__sizeof__', '__str__', '__subclasshook__', '__weakref__', '_finder', '_list_cells', '_properties', 'acell', 'add_cols', 'add_protected_range', 'add_rows', 'append_row', 'append_rows', 'batch_get', 'batch_update', 'cell', 'clear', 'clear_basic_filter', 'clear_note', 'client', 'col_count', 'col_values', 'copy_to', 'delete_columns', 'delete_dimension', 'delete_row', 'delete_rows', 'duplicate', 'export', 'find', 'findall', 'format', 'freeze', 'frozen_col_count', 'frozen_row_count', 'get', 'get_all_records', 'get_all_values', 'id', 'insert_cols', 'insert_note', 'insert_row', 'insert_rows', 'merge_cells', 'range', 'resize', 'row_count', 'row_values', 'set_basic_filter', 'sort', 'spreadsheet', 'title', 'update', 'update_acell', 'update_cell', 'update_cells', 'update_index', 'update_note', 'update_title', 'updated', 'url']\n",
            "1 ['Становление сетью ресторанов', 'Открытие новых точек ресторана в городе, а затем по всей стране', '10', '0.6', '6']\n",
            "2 ['Вступление в силу нового закона о смягчении таможенных барьеров', 'Позволит расширить возможности импорта необходимых продуктов за счёт заключения договоров с новыми поставщиками по более низким ценам.', '10', '0.8', '8']\n",
            "3 ['Проведение успешной рекламной компании', 'Новая рекламная компания позволит привлечь новых посетителей', '9', '0.9', '8,1']\n",
            "4 ['Сотрудничество с сетью зарубежных ресторанов', 'Это позволит обновить и улучшить меню, что приведёт к притоку гостей', '9', '0.8', '7,2']\n"
          ],
          "name": "stdout"
        },
        {
          "output_type": "execute_result",
          "data": {
            "text/plain": [
              "{'spreadsheetId': '1EmUdIEw8O1xec-5P77ZLF5BY9-Kw34Guyg38vyQSRRE',\n",
              " 'updatedCells': 4,\n",
              " 'updatedColumns': 1,\n",
              " 'updatedRange': 'Opportunities!E2:E5',\n",
              " 'updatedRows': 4}"
            ]
          },
          "metadata": {
            "tags": []
          },
          "execution_count": 26
        }
      ]
    },
    {
      "cell_type": "code",
      "metadata": {
        "colab": {
          "base_uri": "https://localhost:8080/",
          "height": 413
        },
        "id": "MBzms2w2cw6N",
        "outputId": "82186873-9842-4991-ebf0-17539108ca42"
      },
      "source": [
        "import matplotlib\r\n",
        "import matplotlib.pyplot as plt\r\n",
        "\r\n",
        "x_float = [1,2,3,4]\r\n",
        "y = power_opportunities\r\n",
        "y_float = power_opportunities                                                                                                                               \r\n",
        "\r\n",
        "x_pos=list()\r\n",
        "for i in range(x_float.__len__()):\r\n",
        "    x_pos.append(i)\r\n",
        "\r\n",
        "fig=plt.figure(figsize=(8,6), dpi=72)\r\n",
        "plt.bar(x_pos, y_float, width=0.75, align='edge', alpha=0.4)\r\n",
        "plt.xticks(x_pos,  x_float, fontsize=14)\r\n",
        "plt.xlabel('Обозначения', fontsize=14)\r\n",
        "plt.ylabel('Мощность воздействия', fontsize=14)\r\n",
        "plt.title('Opportunities', fontsize=14)\r\n",
        "plt.grid(True, color='r', linestyle='-', linewidth=2)\r\n",
        "\r\n",
        "plt.show()"
      ],
      "execution_count": 27,
      "outputs": [
        {
          "output_type": "display_data",
          "data": {
            "image/png": "[encoded data removed]",
            "text/plain": [
              "<Figure size 576x432 with 1 Axes>"
            ]
          },
          "metadata": {
            "tags": [],
            "needs_background": "light"
          }
        }
      ]
    },
    {
      "cell_type": "markdown",
      "metadata": {
        "id": "eglVbP99c40A"
      },
      "source": [
        "#Threats"
      ]
    },
    {
      "cell_type": "code",
      "metadata": {
        "colab": {
          "base_uri": "https://localhost:8080/",
          "height": 0
        },
        "id": "HiisawGic7z3",
        "outputId": "db75a586-0480-4c11-e088-e0f8450f2d84"
      },
      "source": [
        "print(table.worksheets())\r\n",
        "try:\r\n",
        "  worksheet = table.worksheet('Threats')\r\n",
        "except Exception as mistake:\r\n",
        "    print('\\n',mistake)\r\n",
        "    print(\"Необходимо создать лист\\n\")\r\n",
        "    worksheet = table.add_worksheet(\"Threats\",100,100)\r\n",
        "\r\n",
        "print(dir(worksheet))\r\n",
        "rows = worksheet.get_all_values()\r\n",
        "power_threats = list()\r\n",
        "i=0\r\n",
        "for row in rows:\r\n",
        "  if(i>0):\r\n",
        "    print (i, row)\r\n",
        "    power_threats.append(int(row[2])*float(row[3]))\r\n",
        "  i+=1\r\n",
        "cell_list = worksheet.range('E2:E5')\r\n",
        "cell_values = power_threats\r\n",
        "for i, val in enumerate(cell_values):  \r\n",
        "    cell_list[i].value = val   \r\n",
        "worksheet.update_cells(cell_list)"
      ],
      "execution_count": 28,
      "outputs": [
        {
          "output_type": "stream",
          "text": [
            "[<Worksheet 'Strengths' id:0>, <Worksheet 'Weaknesses' id:1441603>, <Worksheet 'Opportunities' id:1224256298>, <Worksheet 'Threats' id:1929994358>, <Worksheet 'Results' id:1024069695>]\n",
            "['__class__', '__delattr__', '__dict__', '__dir__', '__doc__', '__eq__', '__format__', '__ge__', '__getattribute__', '__gt__', '__hash__', '__init__', '__init_subclass__', '__le__', '__lt__', '__module__', '__ne__', '__new__', '__reduce__', '__reduce_ex__', '__repr__', '__setattr__', '__sizeof__', '__str__', '__subclasshook__', '__weakref__', '_finder', '_list_cells', '_properties', 'acell', 'add_cols', 'add_protected_range', 'add_rows', 'append_row', 'append_rows', 'batch_get', 'batch_update', 'cell', 'clear', 'clear_basic_filter', 'clear_note', 'client', 'col_count', 'col_values', 'copy_to', 'delete_columns', 'delete_dimension', 'delete_row', 'delete_rows', 'duplicate', 'export', 'find', 'findall', 'format', 'freeze', 'frozen_col_count', 'frozen_row_count', 'get', 'get_all_records', 'get_all_values', 'id', 'insert_cols', 'insert_note', 'insert_row', 'insert_rows', 'merge_cells', 'range', 'resize', 'row_count', 'row_values', 'set_basic_filter', 'sort', 'spreadsheet', 'title', 'update', 'update_acell', 'update_cell', 'update_cells', 'update_index', 'update_note', 'update_title', 'updated', 'url']\n",
            "1 ['Появление ресторанов-конкурентов', 'Появление подобных заведений ведёт к уменьшению популярности ресторана', '9', '0.6', '5,4']\n",
            "2 ['Изменения в политике поставщиков', 'Это может привести к дефициту необходимых ингредиентов и сырья ', '9', '0.7', '6,3']\n",
            "3 ['Повышение курса валюты', 'Может привести к повышению закупочных цен на продукты, а соответственно, к росту цен в меню ресторана', '9', '0.8', '7,2']\n",
            "4 ['Изменения в санитарно-гигиенических требованиях к ресторану', 'Сложность в соблюдедие требуемых норм', '6', '0.3', '1,8']\n"
          ],
          "name": "stdout"
        },
        {
          "output_type": "execute_result",
          "data": {
            "text/plain": [
              "{'spreadsheetId': '1EmUdIEw8O1xec-5P77ZLF5BY9-Kw34Guyg38vyQSRRE',\n",
              " 'updatedCells': 4,\n",
              " 'updatedColumns': 1,\n",
              " 'updatedRange': 'Threats!E2:E5',\n",
              " 'updatedRows': 4}"
            ]
          },
          "metadata": {
            "tags": []
          },
          "execution_count": 28
        }
      ]
    },
    {
      "cell_type": "code",
      "metadata": {
        "colab": {
          "base_uri": "https://localhost:8080/",
          "height": 413
        },
        "id": "FsjMlTkmdHPA",
        "outputId": "b0fefaea-e79a-46f9-9c7d-b9985f2a3bb8"
      },
      "source": [
        "import matplotlib\r\n",
        "import matplotlib.pyplot as plt\r\n",
        "\r\n",
        "x_float = [1,2,3,4]\r\n",
        "y = power_threats\r\n",
        "y_float = power_threats                                                                                                                                \r\n",
        "\r\n",
        "x_pos=list()\r\n",
        "for i in range(x_float.__len__()):\r\n",
        "    x_pos.append(i)\r\n",
        "\r\n",
        "fig=plt.figure(figsize=(8,6), dpi=72)\r\n",
        "plt.bar(x_pos, y_float, width=0.75, align='edge', alpha=0.4)\r\n",
        "plt.xticks(x_pos,  x_float, fontsize=14)\r\n",
        "plt.xlabel('Обозначения', fontsize=14)\r\n",
        "plt.ylabel('Мощность воздействия', fontsize=14)\r\n",
        "plt.title('Threats', fontsize=14)\r\n",
        "plt.grid(True, color='r', linestyle='-', linewidth=2)\r\n",
        "\r\n",
        "plt.show()"
      ],
      "execution_count": 29,
      "outputs": [
        {
          "output_type": "display_data",
          "data": {
            "image/png": "[encoded data removed]",
            "text/plain": [
              "<Figure size 576x432 with 1 Axes>"
            ]
          },
          "metadata": {
            "tags": [],
            "needs_background": "light"
          }
        }
      ]
    },
    {
      "cell_type": "markdown",
      "metadata": {
        "id": "p33AtA9UdOUu"
      },
      "source": [
        "# Итоговая таблица SWOT-анализа"
      ]
    },
    {
      "cell_type": "code",
      "metadata": {
        "colab": {
          "base_uri": "https://localhost:8080/",
          "height": 0
        },
        "id": "w0S43XEadS9z",
        "outputId": "6aac3887-fe56-4f5b-de06-996a93c895b0"
      },
      "source": [
        "print(table.worksheets())\r\n",
        "try:\r\n",
        "  worksheet = table.worksheet('Results')\r\n",
        "except Exception as mistake:\r\n",
        "    print('\\n',mistake)\r\n",
        "    print(\"Необходимо создать лист\\n\")\r\n",
        "    worksheet = table.add_worksheet(\"Results\",100,100)\r\n",
        "\r\n",
        "print(dir(worksheet))\r\n",
        "rows = worksheet.get_all_values()\r\n",
        "value = list()\r\n",
        "power = [sum(power_strengths),sum(power_weaknesses),sum(power_opportunities),sum(power_threats)]\r\n",
        "print (power)\r\n",
        "i=0\r\n",
        "for row in rows:\r\n",
        "  if(i>=0):\r\n",
        "    print (i, row)\r\n",
        "  i+=1\r\n",
        "cell_list = worksheet.range('B1:B5')\r\n",
        "cell_values = power\r\n",
        "for i, val in enumerate(cell_values):  \r\n",
        "    cell_list[i].value = val   \r\n",
        "worksheet.update_cells(cell_list)\r\n",
        "results = sum(power_strengths)-sum(power_weaknesses)+sum(power_opportunities)-sum(power_threats)\r\n",
        "worksheet.update_cell(5,2,results)"
      ],
      "execution_count": 30,
      "outputs": [
        {
          "output_type": "stream",
          "text": [
            "[<Worksheet 'Strengths' id:0>, <Worksheet 'Weaknesses' id:1441603>, <Worksheet 'Opportunities' id:1224256298>, <Worksheet 'Threats' id:1929994358>, <Worksheet 'Results' id:1024069695>]\n",
            "['__class__', '__delattr__', '__dict__', '__dir__', '__doc__', '__eq__', '__format__', '__ge__', '__getattribute__', '__gt__', '__hash__', '__init__', '__init_subclass__', '__le__', '__lt__', '__module__', '__ne__', '__new__', '__reduce__', '__reduce_ex__', '__repr__', '__setattr__', '__sizeof__', '__str__', '__subclasshook__', '__weakref__', '_finder', '_list_cells', '_properties', 'acell', 'add_cols', 'add_protected_range', 'add_rows', 'append_row', 'append_rows', 'batch_get', 'batch_update', 'cell', 'clear', 'clear_basic_filter', 'clear_note', 'client', 'col_count', 'col_values', 'copy_to', 'delete_columns', 'delete_dimension', 'delete_row', 'delete_rows', 'duplicate', 'export', 'find', 'findall', 'format', 'freeze', 'frozen_col_count', 'frozen_row_count', 'get', 'get_all_records', 'get_all_values', 'id', 'insert_cols', 'insert_note', 'insert_row', 'insert_rows', 'merge_cells', 'range', 'resize', 'row_count', 'row_values', 'set_basic_filter', 'sort', 'spreadsheet', 'title', 'update', 'update_acell', 'update_cell', 'update_cells', 'update_index', 'update_note', 'update_title', 'updated', 'url']\n",
            "[31.6, 27.200000000000003, 29.3, 20.7]\n",
            "0 ['S', '31,6']\n",
            "1 ['W', '27,2']\n",
            "2 ['O', '29,3']\n",
            "3 ['T', '20,7']\n",
            "4 ['Result', '13']\n"
          ],
          "name": "stdout"
        },
        {
          "output_type": "execute_result",
          "data": {
            "text/plain": [
              "{'spreadsheetId': '1EmUdIEw8O1xec-5P77ZLF5BY9-Kw34Guyg38vyQSRRE',\n",
              " 'updatedCells': 1,\n",
              " 'updatedColumns': 1,\n",
              " 'updatedRange': 'Results!B5',\n",
              " 'updatedRows': 1}"
            ]
          },
          "metadata": {
            "tags": []
          },
          "execution_count": 30
        }
      ]
    },
    {
      "cell_type": "code",
      "metadata": {
        "colab": {
          "base_uri": "https://localhost:8080/",
          "height": 413
        },
        "id": "IDZHggPwdmaP",
        "outputId": "3a003f1a-5e8b-4061-f9a9-10d354cbb3cc"
      },
      "source": [
        "import matplotlib\r\n",
        "import matplotlib.pyplot as plt\r\n",
        "\r\n",
        "title = [ \"strengths\", \"weaknesses\", \"opportunities\", \"threats\", \"result\"]\r\n",
        "x=title\r\n",
        "x_float = [1, 2, 3, 4, 5]\r\n",
        "y = power\r\n",
        "y_float = [sum(power_strengths),-sum(power_weaknesses),sum(power_opportunities),-sum(power_threats),results]                                                                                                                              \r\n",
        "\r\n",
        "x_pos=list()\r\n",
        "for i in range(x_float.__len__()):\r\n",
        "    x_pos.append(i)\r\n",
        "\r\n",
        "fig=plt.figure(figsize=(8,6), dpi=72)\r\n",
        "plt.bar(x_pos, y_float, width=0.75, align='edge', alpha=0.4)\r\n",
        "plt.xticks(x_pos,  x_float, fontsize=14)\r\n",
        "plt.xlabel('Обозначения', fontsize=14)\r\n",
        "plt.ylabel('Мощность воздействия', fontsize=14)\r\n",
        "plt.title('SWOT', fontsize=14)\r\n",
        "plt.grid(True, color='r', linestyle='-', linewidth=2)\r\n",
        "\r\n",
        "plt.show()"
      ],
      "execution_count": 31,
      "outputs": [
        {
          "output_type": "display_data",
          "data": {
            "image/png": "[encoded data removed]",
            "text/plain": [
              "<Figure size 576x432 with 1 Axes>"
            ]
          },
          "metadata": {
            "tags": [],
            "needs_background": "light"
          }
        }
      ]
    }
  ]
}